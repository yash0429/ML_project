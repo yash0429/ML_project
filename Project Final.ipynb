{
 "cells": [
  {
   "cell_type": "markdown",
   "metadata": {},
   "source": [
    "### import library"
   ]
  },
  {
   "cell_type": "code",
   "execution_count": 1,
   "metadata": {},
   "outputs": [],
   "source": [
    "from gtts import gTTS\n",
    "import os\n",
    "import IPython.display as ipd\n",
    "from IPython.display import Audio\n",
    "sound_file = \"sample.wav\"\n",
    "import speech_recognition as sr  \n",
    "import matplotlib.pyplot as plt\n",
    "import librosa.display\n",
    "%matplotlib inline"
   ]
  },
  {
   "cell_type": "markdown",
   "metadata": {},
   "source": [
    "###  text to speech conversion model"
   ]
  },
  {
   "cell_type": "code",
   "execution_count": 2,
   "metadata": {},
   "outputs": [],
   "source": [
    "def text_to_speech():\n",
    "    print(\"Enter text\")\n",
    "    x = input()\n",
    "    tts = gTTS(text=\"     \"+x,lang='en')       # google text to speech api\n",
    "    tts.save(\"sample.wav\")                 #save the output in the file sample.wav      "
   ]
  },
  {
   "cell_type": "markdown",
   "metadata": {},
   "source": [
    "###  speech to text conversion model"
   ]
  },
  {
   "cell_type": "code",
   "execution_count": 3,
   "metadata": {},
   "outputs": [],
   "source": [
    "def speech_to_text():\n",
    "    r = sr.Recognizer()                 # initialize recognizer\n",
    "    with sr.Microphone() as source:     # mention source it will be either Microphone or audio files.\n",
    "        print(\"Speak Anything :\")\n",
    "        audio = r.listen(source)        # listen to the source\n",
    "        try:\n",
    "            text = r.recognize_google(audio)    # use recognizer to convert our audio into text part.\n",
    "            print(\"You said : {}\".format(text))\n",
    "        except:\n",
    "            print(\"Sorry could not recognize your voice\")  "
   ]
  },
  {
   "cell_type": "markdown",
   "metadata": {},
   "source": [
    "### choices "
   ]
  },
  {
   "cell_type": "code",
   "execution_count": 4,
   "metadata": {},
   "outputs": [],
   "source": [
    "def menu (choice):\n",
    "    if choice is '1':\n",
    "        speech_to_text()\n",
    "    elif choice is '2':\n",
    "        text_to_speech()\n",
    "    elif choice is 3: \n",
    "        exit()\n",
    "    else: \n",
    "        print(\"Wrong choice!\\n Please choose from options.\")       "
   ]
  },
  {
   "cell_type": "code",
   "execution_count": 6,
   "metadata": {
    "scrolled": true
   },
   "outputs": [
    {
     "name": "stdout",
     "output_type": "stream",
     "text": [
      "1. Speech to text\n",
      "2. Text to speech\n",
      "3. Exit\n",
      "enter your choice: 2\n",
      "Enter text\n",
      "hey this is the major project we are working upon\n"
     ]
    }
   ],
   "source": [
    "print(\"1. Speech to text\")\n",
    "print(\"2. Text to speech\")\n",
    "print(\"3. Exit\")\n",
    "choice=input(\"enter your choice: \")\n",
    "menu(choice)"
   ]
  },
  {
   "cell_type": "markdown",
   "metadata": {},
   "source": [
    "#### play output sound file "
   ]
  },
  {
   "cell_type": "code",
   "execution_count": 7,
   "metadata": {},
   "outputs": [
    {
     "data": {
      "text/html": [
       "\n",
       "                <audio  controls=\"controls\" autoplay=\"autoplay\">\n",
       "                    <source src=\"data:audio/wav;base64,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\" type=\"audio/wav\" />\n",
       "                    Your browser does not support the audio element.\n",
       "                </audio>\n",
       "              "
      ],
      "text/plain": [
       "<IPython.lib.display.Audio object>"
      ]
     },
     "execution_count": 7,
     "metadata": {},
     "output_type": "execute_result"
    }
   ],
   "source": [
    "Audio(sound_file, autoplay=True)"
   ]
  },
  {
   "cell_type": "code",
   "execution_count": null,
   "metadata": {},
   "outputs": [],
   "source": []
  }
 ],
 "metadata": {
  "kernelspec": {
   "display_name": "Python 3",
   "language": "python",
   "name": "python3"
  },
  "language_info": {
   "codemirror_mode": {
    "name": "ipython",
    "version": 3
   },
   "file_extension": ".py",
   "mimetype": "text/x-python",
   "name": "python",
   "nbconvert_exporter": "python",
   "pygments_lexer": "ipython3",
   "version": "3.7.4"
  }
 },
 "nbformat": 4,
 "nbformat_minor": 2
}
